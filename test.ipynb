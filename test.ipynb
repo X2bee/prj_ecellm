{
 "cells": [
  {
   "cell_type": "code",
   "execution_count": 1,
   "metadata": {},
   "outputs": [
    {
     "name": "stderr",
     "output_type": "stream",
     "text": [
      "/opt/conda/lib/python3.11/site-packages/tqdm/auto.py:21: TqdmWarning: IProgress not found. Please update jupyter and ipywidgets. See https://ipywidgets.readthedocs.io/en/stable/user_install.html\n",
      "  from .autonotebook import tqdm as notebook_tqdm\n"
     ]
    }
   ],
   "source": [
    "import os\n",
    "os.chdir(\"/workspace\")\n",
    "from models.bert_mlm import *"
   ]
  },
  {
   "cell_type": "code",
   "execution_count": null,
   "metadata": {},
   "outputs": [],
   "source": [
    "mbm = ModernBertMLM(subfolder=\"\")"
   ]
  },
  {
   "cell_type": "code",
   "execution_count": 126,
   "metadata": {},
   "outputs": [
    {
     "name": "stdout",
     "output_type": "stream",
     "text": [
      "Predicted: 공항 | Current text: 30일 전남 무안국제공항 활주로에 전날 발생한 제주항공 [MASK] 당시 기체가 [MASK]착륙하면서 강한 마찰로 생긴 흔적이 남아 있다. 이 참사로 [MASK]과 승무원 181명 중 179명이 숨지고 [MASK]는 형체를 알아볼 수 없이 [MASK]됐다. [MASK] 규모와 [MASK] 원인 등에 대해 다양한 [MASK]이 제기되고 있는 가운데 [MASK]에 설치된 [MASK](착륙 유도 안전시설)가 [MASK]를 키웠다는 [MASK]이 나오고 있다.\n",
      "Predicted: 사고 | Current text: 30일 전남 무안국제공항 활주로에 전날 발생한 제주항공 사고 당시 기체가 [MASK]착륙하면서 강한 마찰로 생긴 흔적이 남아 있다. 이 참사로 [MASK]과 승무원 181명 중 179명이 숨지고 [MASK]는 형체를 알아볼 수 없이 [MASK]됐다. [MASK] 규모와 [MASK] 원인 등에 대해 다양한 [MASK]이 제기되고 있는 가운데 [MASK]에 설치된 [MASK](착륙 유도 안전시설)가 [MASK]를 키웠다는 [MASK]이 나오고 있다.\n",
      "Predicted: 비상 | Current text: 30일 전남 무안국제공항 활주로에 전날 발생한 제주항공 사고 당시 기체가 비상착륙하면서 강한 마찰로 생긴 흔적이 남아 있다. 이 참사로 [MASK]과 승무원 181명 중 179명이 숨지고 [MASK]는 형체를 알아볼 수 없이 [MASK]됐다. [MASK] 규모와 [MASK] 원인 등에 대해 다양한 [MASK]이 제기되고 있는 가운데 [MASK]에 설치된 [MASK](착륙 유도 안전시설)가 [MASK]를 키웠다는 [MASK]이 나오고 있다.\n",
      "Predicted: 승객 | Current text: 30일 전남 무안국제공항 활주로에 전날 발생한 제주항공 사고 당시 기체가 비상착륙하면서 강한 마찰로 생긴 흔적이 남아 있다. 이 참사로 승객과 승무원 181명 중 179명이 숨지고 [MASK]는 형체를 알아볼 수 없이 [MASK]됐다. [MASK] 규모와 [MASK] 원인 등에 대해 다양한 [MASK]이 제기되고 있는 가운데 [MASK]에 설치된 [MASK](착륙 유도 안전시설)가 [MASK]를 키웠다는 [MASK]이 나오고 있다.\n",
      "Predicted: 잔해 | Current text: 30일 전남 무안국제공항 활주로에 전날 발생한 제주항공 사고 당시 기체가 비상착륙하면서 강한 마찰로 생긴 흔적이 남아 있다. 이 참사로 승객과 승무원 181명 중 179명이 숨지고 잔해는 형체를 알아볼 수 없이 [MASK]됐다. [MASK] 규모와 [MASK] 원인 등에 대해 다양한 [MASK]이 제기되고 있는 가운데 [MASK]에 설치된 [MASK](착륙 유도 안전시설)가 [MASK]를 키웠다는 [MASK]이 나오고 있다.\n",
      "Predicted: 훼손 | Current text: 30일 전남 무안국제공항 활주로에 전날 발생한 제주항공 사고 당시 기체가 비상착륙하면서 강한 마찰로 생긴 흔적이 남아 있다. 이 참사로 승객과 승무원 181명 중 179명이 숨지고 잔해는 형체를 알아볼 수 없이 훼손됐다. [MASK] 규모와 [MASK] 원인 등에 대해 다양한 [MASK]이 제기되고 있는 가운데 [MASK]에 설치된 [MASK](착륙 유도 안전시설)가 [MASK]를 키웠다는 [MASK]이 나오고 있다.\n",
      "Predicted: 사고 | Current text: 30일 전남 무안국제공항 활주로에 전날 발생한 제주항공 사고 당시 기체가 비상착륙하면서 강한 마찰로 생긴 흔적이 남아 있다. 이 참사로 승객과 승무원 181명 중 179명이 숨지고 잔해는 형체를 알아볼 수 없이 훼손됐다. 사고 규모와 [MASK] 원인 등에 대해 다양한 [MASK]이 제기되고 있는 가운데 [MASK]에 설치된 [MASK](착륙 유도 안전시설)가 [MASK]를 키웠다는 [MASK]이 나오고 있다.\n",
      "Predicted: 발생 | Current text: 30일 전남 무안국제공항 활주로에 전날 발생한 제주항공 사고 당시 기체가 비상착륙하면서 강한 마찰로 생긴 흔적이 남아 있다. 이 참사로 승객과 승무원 181명 중 179명이 숨지고 잔해는 형체를 알아볼 수 없이 훼손됐다. 사고 규모와 발생 원인 등에 대해 다양한 [MASK]이 제기되고 있는 가운데 [MASK]에 설치된 [MASK](착륙 유도 안전시설)가 [MASK]를 키웠다는 [MASK]이 나오고 있다.\n",
      "Predicted: 주장 | Current text: 30일 전남 무안국제공항 활주로에 전날 발생한 제주항공 사고 당시 기체가 비상착륙하면서 강한 마찰로 생긴 흔적이 남아 있다. 이 참사로 승객과 승무원 181명 중 179명이 숨지고 잔해는 형체를 알아볼 수 없이 훼손됐다. 사고 규모와 발생 원인 등에 대해 다양한 주장이 제기되고 있는 가운데 [MASK]에 설치된 [MASK](착륙 유도 안전시설)가 [MASK]를 키웠다는 [MASK]이 나오고 있다.\n",
      "Predicted: 내부 | Current text: 30일 전남 무안국제공항 활주로에 전날 발생한 제주항공 사고 당시 기체가 비상착륙하면서 강한 마찰로 생긴 흔적이 남아 있다. 이 참사로 승객과 승무원 181명 중 179명이 숨지고 잔해는 형체를 알아볼 수 없이 훼손됐다. 사고 규모와 발생 원인 등에 대해 다양한 주장이 제기되고 있는 가운데 내부에 설치된 [MASK](착륙 유도 안전시설)가 [MASK]를 키웠다는 [MASK]이 나오고 있다.\n",
      "Predicted: ESP | Current text: 30일 전남 무안국제공항 활주로에 전날 발생한 제주항공 사고 당시 기체가 비상착륙하면서 강한 마찰로 생긴 흔적이 남아 있다. 이 참사로 승객과 승무원 181명 중 179명이 숨지고 잔해는 형체를 알아볼 수 없이 훼손됐다. 사고 규모와 발생 원인 등에 대해 다양한 주장이 제기되고 있는 가운데 내부에 설치된 ESP(착륙 유도 안전시설)가 [MASK]를 키웠다는 [MASK]이 나오고 있다.\n",
      "Predicted: 사고 | Current text: 30일 전남 무안국제공항 활주로에 전날 발생한 제주항공 사고 당시 기체가 비상착륙하면서 강한 마찰로 생긴 흔적이 남아 있다. 이 참사로 승객과 승무원 181명 중 179명이 숨지고 잔해는 형체를 알아볼 수 없이 훼손됐다. 사고 규모와 발생 원인 등에 대해 다양한 주장이 제기되고 있는 가운데 내부에 설치된 ESP(착륙 유도 안전시설)가 사고를 키웠다는 [MASK]이 나오고 있다.\n",
      "Predicted: 주장 | Current text: 30일 전남 무안국제공항 활주로에 전날 발생한 제주항공 사고 당시 기체가 비상착륙하면서 강한 마찰로 생긴 흔적이 남아 있다. 이 참사로 승객과 승무원 181명 중 179명이 숨지고 잔해는 형체를 알아볼 수 없이 훼손됐다. 사고 규모와 발생 원인 등에 대해 다양한 주장이 제기되고 있는 가운데 내부에 설치된 ESP(착륙 유도 안전시설)가 사고를 키웠다는 주장이 나오고 있다.\n"
     ]
    },
    {
     "data": {
      "text/plain": [
       "'30일 전남 무안국제공항 활주로에 전날 발생한 제주항공 사고 당시 기체가 비상착륙하면서 강한 마찰로 생긴 흔적이 남아 있다. 이 참사로 승객과 승무원 181명 중 179명이 숨지고 잔해는 형체를 알아볼 수 없이 훼손됐다. 사고 규모와 발생 원인 등에 대해 다양한 주장이 제기되고 있는 가운데 내부에 설치된 ESP(착륙 유도 안전시설)가 사고를 키웠다는 주장이 나오고 있다.'"
      ]
     },
     "execution_count": 126,
     "metadata": {},
     "output_type": "execute_result"
    }
   ],
   "source": [
    "text = \"30일 전남 무안국제[MASK] 활주로에 전날 발생한 제주항공 [MASK] 당시 기체가 [MASK]착륙하면서 강한 마찰로 생긴 흔적이 남아 있다. 이 참사로 [MASK]과 승무원 181명 중 179명이 숨지고 [MASK]는 형체를 알아볼 수 없이 [MASK]됐다. [MASK] 규모와 [MASK] 원인 등에 대해 다양한 [MASK]이 제기되고 있는 가운데 [MASK]에 설치된 [MASK](착륙 유도 안전시설)가 [MASK]를 키웠다는 [MASK]이 나오고 있다.\"\n",
    "\n",
    "result = mbm.modern_bert_convert_with_multiple_masks(text, top_k=5)\n",
    "result"
   ]
  },
  {
   "cell_type": "code",
   "execution_count": null,
   "metadata": {},
   "outputs": [
    {
     "name": "stdout",
     "output_type": "stream",
     "text": [
      "Predicted: 좋은 | Current text: 매우 좋은 날이야.\n"
     ]
    }
   ],
   "source": [
    "text = \"매우 [MASK] 날이야.\"\n",
    "\n",
    "result = mbm.modern_bert_convert_with_multiple_masks(text, top_k=5)\n",
    "result"
   ]
  }
 ],
 "metadata": {
  "kernelspec": {
   "display_name": "base",
   "language": "python",
   "name": "python3"
  },
  "language_info": {
   "codemirror_mode": {
    "name": "ipython",
    "version": 3
   },
   "file_extension": ".py",
   "mimetype": "text/x-python",
   "name": "python",
   "nbconvert_exporter": "python",
   "pygments_lexer": "ipython3",
   "version": "3.11.10"
  }
 },
 "nbformat": 4,
 "nbformat_minor": 2
}
