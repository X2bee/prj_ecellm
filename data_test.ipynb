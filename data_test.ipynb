{
 "cells": [
  {
   "cell_type": "code",
   "execution_count": 37,
   "metadata": {},
   "outputs": [],
   "source": [
    "import os\n",
    "os.chdir(\"/workspace\")\n",
    "from datasets import load_dataset, ClassLabel, Features, Value\n",
    "from huggingface_hub import HfApi, login\n",
    "with open('./api_key/HGF_TOKEN.txt', 'r') as hgf:\n",
    "    login(token=hgf.read())"
   ]
  },
  {
   "cell_type": "code",
   "execution_count": 48,
   "metadata": {},
   "outputs": [],
   "source": [
    "dataset = load_dataset(\"x2bee/Korean_NLI_all\")\n",
    "dataset = dataset[\"train\"]"
   ]
  },
  {
   "cell_type": "code",
   "execution_count": 33,
   "metadata": {},
   "outputs": [
    {
     "name": "stderr",
     "output_type": "stream",
     "text": [
      "Map: 100%|██████████| 392702/392702 [00:11<00:00, 34291.26 examples/s]\n"
     ]
    }
   ],
   "source": [
    "label_mapping = {\n",
    "    \"entailment\": \"0\",\n",
    "    \"neutral\": \"1\",\n",
    "    \"contradiction\": \"2\"\n",
    "}\n",
    "\n",
    "# label 값 변경\n",
    "dataset = dataset.map(lambda x: {\"label\": label_mapping[x[\"label\"]]})"
   ]
  },
  {
   "cell_type": "code",
   "execution_count": 39,
   "metadata": {},
   "outputs": [],
   "source": [
    "class_label = ClassLabel(names=[\"entailment\", \"neutral\", \"contradiction\"])"
   ]
  },
  {
   "cell_type": "code",
   "execution_count": 40,
   "metadata": {},
   "outputs": [],
   "source": [
    "features = Features({\n",
    "    \"premise\": Value(dtype=\"string\"),\n",
    "    \"hypothesis\": Value(dtype=\"string\"),\n",
    "    \"label\": class_label,\n",
    "})"
   ]
  },
  {
   "cell_type": "code",
   "execution_count": 41,
   "metadata": {},
   "outputs": [
    {
     "name": "stderr",
     "output_type": "stream",
     "text": [
      "Casting the dataset: 100%|██████████| 392702/392702 [00:00<00:00, 552306.85 examples/s]\n"
     ]
    }
   ],
   "source": [
    "dataset = dataset.cast(features)"
   ]
  },
  {
   "cell_type": "code",
   "execution_count": 47,
   "metadata": {},
   "outputs": [
    {
     "name": "stderr",
     "output_type": "stream",
     "text": [
      "Creating parquet from Arrow format: 100%|██████████| 393/393 [00:00<00:00, 942.75ba/s]\n",
      "Uploading the dataset shards: 100%|██████████| 1/1 [00:10<00:00, 10.22s/it]\n"
     ]
    },
    {
     "data": {
      "text/plain": [
       "CommitInfo(commit_url='https://huggingface.co/datasets/x2bee/Korean_NLI_dataset/commit/0a1fb3c2b91ef3677888fecd332b831fb50861d1', commit_message='Upload dataset', commit_description='', oid='0a1fb3c2b91ef3677888fecd332b831fb50861d1', pr_url=None, repo_url=RepoUrl('https://huggingface.co/datasets/x2bee/Korean_NLI_dataset', endpoint='https://huggingface.co', repo_type='dataset', repo_id='x2bee/Korean_NLI_dataset'), pr_revision=None, pr_num=None)"
      ]
     },
     "execution_count": 47,
     "metadata": {},
     "output_type": "execute_result"
    }
   ],
   "source": [
    "dataset.push_to_hub(\"x2bee/Korean_NLI_dataset\", config_name=\"NLI_pair-class\", data_dir=\"pair-class\")"
   ]
  },
  {
   "cell_type": "code",
   "execution_count": null,
   "metadata": {},
   "outputs": [],
   "source": [
    "dataset.push_to_hub(\"x2bee/Korean_NLI_dataset\", config_name=\"NLI_pair-score\", data_dir=\"pair-score\")"
   ]
  },
  {
   "cell_type": "code",
   "execution_count": 14,
   "metadata": {},
   "outputs": [
    {
     "data": {
      "text/plain": [
       "{'hypothesis': '게이들과 레즈비언들.', 'premise': '이성애자.', 'label': 'contradiction'}"
      ]
     },
     "execution_count": 14,
     "metadata": {},
     "output_type": "execute_result"
    }
   ],
   "source": [
    "dataset[8]"
   ]
  },
  {
   "cell_type": "code",
   "execution_count": 49,
   "metadata": {},
   "outputs": [
    {
     "name": "stderr",
     "output_type": "stream",
     "text": [
      "Map: 100%|██████████| 392702/392702 [00:10<00:00, 36652.46 examples/s]"
     ]
    },
    {
     "name": "stdout",
     "output_type": "stream",
     "text": [
      "Dataset({\n",
      "    features: ['hypothesis', 'premise', 'label'],\n",
      "    num_rows: 392702\n",
      "})\n"
     ]
    },
    {
     "name": "stderr",
     "output_type": "stream",
     "text": [
      "\n"
     ]
    }
   ],
   "source": [
    "label_mapping = {\n",
    "    \"entailment\": 1.0,\n",
    "    \"neutral\": 0.5,\n",
    "    \"contradiction\": 0.0\n",
    "}\n",
    "\n",
    "# label 값 변경\n",
    "dataset = dataset.map(lambda x: {\"label\": label_mapping[x[\"label\"]]})\n",
    "\n",
    "# 결과 확인\n",
    "print(dataset)"
   ]
  },
  {
   "cell_type": "code",
   "execution_count": 55,
   "metadata": {},
   "outputs": [
    {
     "data": {
      "text/plain": [
       "{'sentence1': '어떻게 아세요? 이 모든 것이 다시 그들의 정보다.',\n",
       " 'sentence2': '이 정보는 그들의 것이다.',\n",
       " 'score': 1.0}"
      ]
     },
     "execution_count": 55,
     "metadata": {},
     "output_type": "execute_result"
    }
   ],
   "source": [
    "dataset[3]"
   ]
  },
  {
   "cell_type": "code",
   "execution_count": 51,
   "metadata": {},
   "outputs": [],
   "source": [
    "dataset = dataset.rename_column(\"hypothesis\", \"sentence1\")\n",
    "dataset = dataset.rename_column(\"premise\", \"sentence2\")\n",
    "dataset = dataset.rename_column(\"label\", \"score\")"
   ]
  },
  {
   "cell_type": "code",
   "execution_count": 52,
   "metadata": {},
   "outputs": [
    {
     "name": "stderr",
     "output_type": "stream",
     "text": [
      "Casting the dataset: 100%|██████████| 392702/392702 [00:00<00:00, 2243419.10 examples/s]\n"
     ]
    }
   ],
   "source": [
    "new_features = Features({\n",
    "    \"sentence1\": Value(dtype=\"string\"),\n",
    "    \"sentence2\": Value(dtype=\"string\"),\n",
    "    \"score\": Value(dtype=\"float32\"),  # score는 float32로 설정\n",
    "})\n",
    "\n",
    "dataset = dataset.cast(new_features)"
   ]
  },
  {
   "cell_type": "code",
   "execution_count": 53,
   "metadata": {},
   "outputs": [
    {
     "name": "stderr",
     "output_type": "stream",
     "text": [
      "Creating parquet from Arrow format: 100%|██████████| 393/393 [00:00<00:00, 1158.54ba/s]\n",
      "Uploading the dataset shards: 100%|██████████| 1/1 [00:06<00:00,  6.87s/it]\n"
     ]
    },
    {
     "data": {
      "text/plain": [
       "CommitInfo(commit_url='https://huggingface.co/datasets/x2bee/Korean_NLI_dataset/commit/3f9b21de83e6cf7667728d4301420e9f0588c803', commit_message='Upload dataset', commit_description='', oid='3f9b21de83e6cf7667728d4301420e9f0588c803', pr_url=None, repo_url=RepoUrl('https://huggingface.co/datasets/x2bee/Korean_NLI_dataset', endpoint='https://huggingface.co', repo_type='dataset', repo_id='x2bee/Korean_NLI_dataset'), pr_revision=None, pr_num=None)"
      ]
     },
     "execution_count": 53,
     "metadata": {},
     "output_type": "execute_result"
    }
   ],
   "source": [
    "dataset.push_to_hub(\"x2bee/Korean_NLI_dataset\", config_name=\"NLI_pair-score\", data_dir=\"pair-score\")"
   ]
  }
 ],
 "metadata": {
  "kernelspec": {
   "display_name": "base",
   "language": "python",
   "name": "python3"
  },
  "language_info": {
   "codemirror_mode": {
    "name": "ipython",
    "version": 3
   },
   "file_extension": ".py",
   "mimetype": "text/x-python",
   "name": "python",
   "nbconvert_exporter": "python",
   "pygments_lexer": "ipython3",
   "version": "3.11.10"
  }
 },
 "nbformat": 4,
 "nbformat_minor": 2
}
