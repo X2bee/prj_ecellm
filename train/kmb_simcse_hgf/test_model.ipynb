{
 "cells": [
  {
   "cell_type": "code",
   "execution_count": 6,
   "metadata": {},
   "outputs": [],
   "source": [
    "import torch\n",
    "from sentence_transformers import SentenceTransformer\n",
    "from transformers import AutoTokenizer, AutoModel\n",
    "mb_model = SentenceTransformer(\"CocoRoF/ModernBERT-SimCSE\")\n",
    "tokenizer = AutoTokenizer.from_pretrained(\"BM-K/KoSimCSE-roberta-multitask\")\n",
    "model = AutoModel.from_pretrained(\"BM-K/KoSimCSE-roberta-multitask\")\n",
    "\n",
    "def cal_score(a, b):\n",
    "    if len(a.shape) == 1: a = a.unsqueeze(0)\n",
    "    if len(b.shape) == 1: b = b.unsqueeze(0)\n",
    "\n",
    "    a_norm = a / a.norm(dim=1)[:, None]\n",
    "    b_norm = b / b.norm(dim=1)[:, None]\n",
    "    return torch.mm(a_norm, b_norm.transpose(0, 1)) * 100"
   ]
  },
  {
   "cell_type": "code",
   "execution_count": 9,
   "metadata": {},
   "outputs": [
    {
     "data": {
      "text/plain": [
       "tensor([[1.0000, 0.4984, 0.4511],\n",
       "        [0.4984, 1.0000, 0.5635],\n",
       "        [0.4511, 0.5635, 1.0000]])"
      ]
     },
     "execution_count": 9,
     "metadata": {},
     "output_type": "execute_result"
    }
   ],
   "source": [
    "sentences = [\"아니 뭔가 성능이 아쉬운데?\",\n",
    "             \"나는 잘 모르겠어\",\n",
    "             '좋은 것 같긴해']\n",
    "\n",
    "embeddings = mb_model.encode(sentences)\n",
    "similarities = mb_model.similarity(embeddings, embeddings)\n",
    "\n",
    "similarities"
   ]
  },
  {
   "cell_type": "code",
   "execution_count": null,
   "metadata": {},
   "outputs": [
    {
     "name": "stdout",
     "output_type": "stream",
     "text": [
      "tensor([[26.1760]], grad_fn=<MulBackward0>) tensor([[23.9452]], grad_fn=<MulBackward0>)\n"
     ]
    }
   ],
   "source": [
    "inputs = tokenizer(sentences, padding=True, truncation=True, return_tensors=\"pt\")\n",
    "embeddings, _ = model(**inputs, return_dict=False)\n",
    "\n",
    "score01 = cal_score(embeddings[0][0], embeddings[1][0])\n",
    "score02 = cal_score(embeddings[0][0], embeddings[2][0])\n",
    "\n",
    "print(score01, score02)"
   ]
  },
  {
   "cell_type": "code",
   "execution_count": null,
   "metadata": {},
   "outputs": [],
   "source": []
  }
 ],
 "metadata": {
  "kernelspec": {
   "display_name": "base",
   "language": "python",
   "name": "python3"
  },
  "language_info": {
   "codemirror_mode": {
    "name": "ipython",
    "version": 3
   },
   "file_extension": ".py",
   "mimetype": "text/x-python",
   "name": "python",
   "nbconvert_exporter": "python",
   "pygments_lexer": "ipython3",
   "version": "3.11.10"
  }
 },
 "nbformat": 4,
 "nbformat_minor": 2
}
