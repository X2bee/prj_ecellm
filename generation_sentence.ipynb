{
 "cells": [
  {
   "cell_type": "code",
   "execution_count": 1,
   "metadata": {},
   "outputs": [],
   "source": [
    "import pandas as pd\n",
    "from tools.lmtool import *"
   ]
  },
  {
   "cell_type": "code",
   "execution_count": 22,
   "metadata": {},
   "outputs": [
    {
     "data": {
      "text/plain": [
       "['파란색 포장지로 싸인 선물 상자',\n",
       " '은색 리본이 달린 고급 시계',\n",
       " '핑크색 꽃다발',\n",
       " '노란색 포인트의 머그컵',\n",
       " '초록색 디지털 알람시계',\n",
       " '빨간색 장미가 그려진 커피 머그',\n",
       " '청록색으로 포장된 향수 세트',\n",
       " '주황색 포인트의 노트북 케이스',\n",
       " '연보라색으로 마감된 사진 앨범',\n",
       " '실버 색상의 펜 세트',\n",
       " '금색 포장지의 초콜릿 상자',\n",
       " '네이비 블루로 포장된 와인 세트',\n",
       " '라벤더 색상의 캔들 세트',\n",
       " '버건디 컬러의 넥타이',\n",
       " '베이지색으로 꾸민 홈 데코 세트',\n",
       " '아이보리 색상의 실크 스카프',\n",
       " '다크 그린 포인트의 스마트폰 케이스',\n",
       " '흰색 포인트를 준 액세서리 세트',\n",
       " '갈색 가죽 지갑',\n",
       " '블랙 컬러의 헤드폰']"
      ]
     },
     "execution_count": 22,
     "metadata": {},
     "output_type": "execute_result"
    }
   ],
   "source": [
    "text = \"선물하기 좋은 물건\"\n",
    "color_gen_llm(text, model=\"gpt-4o\", temperature=0.8)"
   ]
  },
  {
   "cell_type": "code",
   "execution_count": 23,
   "metadata": {},
   "outputs": [
    {
     "name": "stdout",
     "output_type": "stream",
     "text": [
      "0 봄 의상\n",
      "1 여름용 의상\n",
      "2 가을을 의상\n",
      "3 겨울용 의상\n",
      "4 운동용 복장\n",
      "5 가정용 전자제품\n",
      "6 컴퓨터 관련 마우스\n",
      "7 필기구\n",
      "8 사무용품\n",
      "9 유명한 신발\n",
      "10 유명 구두\n",
      "11 좋은 기능성 의류\n",
      "12 외투\n",
      "13 초등학생 아동 용품\n"
     ]
    }
   ],
   "source": [
    "df_2 = pd.DataFrame(columns=['category', 'sentence', 'semantic_keyword', 'answer'])\n",
    "text_list = [\n",
    "    \"봄 의상\",\n",
    "    \"여름용 의상\",\n",
    "    \"가을을 의상\",\n",
    "    \"겨울용 의상\",\n",
    "    \"운동용 복장\",\n",
    "    \"가정용 전자제품\",\n",
    "    \"컴퓨터 관련 마우스\",\n",
    "    \"필기구\",\n",
    "    \"사무용품\",\n",
    "    \"유명한 신발\",\n",
    "    \"유명 구두\",\n",
    "    \"좋은 기능성 의류\",\n",
    "    \"외투\",\n",
    "    \"초등학생 아동 용품\",\n",
    "]\n",
    "category = \"색상\"\n",
    "idx_number = 0\n",
    "for id, semantic_word in enumerate(text_list):\n",
    "    print(id, semantic_word)\n",
    "    for i in range(10):\n",
    "        gen_sentence_list = color_gen_llm(semantic_word, model=\"gpt-4o\", temperature=0.8)\n",
    "        try:\n",
    "            for sentence in gen_sentence_list:\n",
    "                df_2.loc[idx_number, \"category\"] = category\n",
    "                df_2.loc[idx_number, \"sentence\"] = sentence\n",
    "                df_2.loc[idx_number, \"semantic_keyword\"] = semantic_word\n",
    "                idx_number += 1\n",
    "        except:\n",
    "            pass\n",
    "    \n",
    "df_2.to_csv(\"./data/generated/color_gen_method_2.csv\", index=False)"
   ]
  },
  {
   "cell_type": "code",
   "execution_count": 2,
   "metadata": {},
   "outputs": [],
   "source": [
    "df_2 = pd.read_csv(\"./data/generated/color_gen_method_2.csv\")"
   ]
  },
  {
   "cell_type": "code",
   "execution_count": 5,
   "metadata": {},
   "outputs": [
    {
     "name": "stdout",
     "output_type": "stream",
     "text": [
      "100 / 2801\n",
      "200 / 2801\n",
      "300 / 2801\n",
      "400 / 2801\n",
      "500 / 2801\n",
      "600 / 2801\n",
      "700 / 2801\n",
      "800 / 2801\n",
      "900 / 2801\n",
      "1000 / 2801\n",
      "1100 / 2801\n",
      "1200 / 2801\n",
      "1300 / 2801\n",
      "1400 / 2801\n",
      "1500 / 2801\n",
      "1600 / 2801\n",
      "1700 / 2801\n",
      "1800 / 2801\n",
      "1900 / 2801\n",
      "2000 / 2801\n",
      "2100 / 2801\n",
      "2200 / 2801\n",
      "2300 / 2801\n",
      "2400 / 2801\n",
      "2500 / 2801\n",
      "2600 / 2801\n",
      "2700 / 2801\n",
      "2800 / 2801\n"
     ]
    }
   ],
   "source": [
    "for idx in df_2.index:\n",
    "    sentence = df_2.loc[idx, \"sentence\"]\n",
    "    result = color_check_llm(sentence)\n",
    "    \n",
    "    try:\n",
    "        df_2.loc[idx, \"answer_1\"] = result.best_fit_color\n",
    "        df_2.loc[idx, \"answer_2\"] = result.second_fit_color\n",
    "        df_2.loc[idx, \"answer_3\"] = result.third_fit_color\n",
    "        df_2.loc[idx, \"answer_result\"] = result.relationship\n",
    "        df_2.loc[idx, \"answer_keyword\"] = result.keyword\n",
    "    except:\n",
    "        df_2.loc[idx, \"answer_1\"] = \"None\"\n",
    "        df_2.loc[idx, \"answer_2\"] = \"None\"\n",
    "        df_2.loc[idx, \"answer_3\"] = \"None\"\n",
    "        df_2.loc[idx, \"answer_result\"] = \"None\"\n",
    "        df_2.loc[idx, \"answer_keyword\"] = \"None\"\n",
    "        \n",
    "    \n",
    "    if (idx+1) % 100 == 0:\n",
    "        print(f\"{idx+1} / {len(df_2)}\")\n",
    "        \n",
    "df_2.to_csv(\"./data/generated/color_gen_method_2_process_01.csv\", index=False)"
   ]
  },
  {
   "cell_type": "code",
   "execution_count": 7,
   "metadata": {},
   "outputs": [],
   "source": [
    "df_2 = df_2[['category', 'sentence', 'semantic_keyword', 'answer_1', 'answer_2', 'answer_3', 'answer_result', 'answer_keyword']]"
   ]
  },
  {
   "cell_type": "code",
   "execution_count": 8,
   "metadata": {},
   "outputs": [
    {
     "data": {
      "text/plain": [
       "answer_1\n",
       "초록색     252\n",
       "보라색     238\n",
       "주황색     199\n",
       "하얀색     191\n",
       "노랑색     183\n",
       "갈색      176\n",
       "파랑색     165\n",
       "분홍      164\n",
       "빨간색     144\n",
       "검정색     139\n",
       "베이지색    139\n",
       "회색      134\n",
       "은색      106\n",
       "하늘색      97\n",
       "청록색      93\n",
       "남색       87\n",
       "버건디      75\n",
       "금색       73\n",
       "카키색      62\n",
       "민트색      36\n",
       "라임색      35\n",
       "혼합색상      8\n",
       "차콜색       3\n",
       "없음        2\n",
       "Name: count, dtype: int64"
      ]
     },
     "execution_count": 8,
     "metadata": {},
     "output_type": "execute_result"
    }
   ],
   "source": [
    "df_2.answer_1.value_counts()"
   ]
  },
  {
   "cell_type": "code",
   "execution_count": 9,
   "metadata": {},
   "outputs": [],
   "source": [
    "filtered_df = df_2[(df_2['answer_result'] == (\"강함\")) | (df_2['answer_result'] == (\"매우강함\"))]\n",
    "filtered_df.to_csv(\"./data/generated/color_gen_method_2_process_01_filter.csv\", index=False)"
   ]
  },
  {
   "cell_type": "code",
   "execution_count": 10,
   "metadata": {},
   "outputs": [],
   "source": [
    "filtered_df = df_2[(df_2['answer_result'] == (\"매우강함\"))]\n",
    "filtered_df.to_csv(\"./data/generated/color_gen_method_2_process_02_filter.csv\", index=False)"
   ]
  },
  {
   "cell_type": "code",
   "execution_count": 70,
   "metadata": {},
   "outputs": [
    {
     "data": {
      "text/plain": [
       "answer\n",
       "여성    982\n",
       "남성    353\n",
       "Name: count, dtype: int64"
      ]
     },
     "execution_count": 70,
     "metadata": {},
     "output_type": "execute_result"
    }
   ],
   "source": [
    "filtered_df.answer.value_counts()"
   ]
  },
  {
   "cell_type": "code",
   "execution_count": null,
   "metadata": {},
   "outputs": [],
   "source": []
  }
 ],
 "metadata": {
  "kernelspec": {
   "display_name": "space_0",
   "language": "python",
   "name": "python3"
  },
  "language_info": {
   "codemirror_mode": {
    "name": "ipython",
    "version": 3
   },
   "file_extension": ".py",
   "mimetype": "text/x-python",
   "name": "python",
   "nbconvert_exporter": "python",
   "pygments_lexer": "ipython3",
   "version": "3.11.10"
  }
 },
 "nbformat": 4,
 "nbformat_minor": 2
}
